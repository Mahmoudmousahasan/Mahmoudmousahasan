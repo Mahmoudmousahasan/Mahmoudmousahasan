{
 "cells": [
  {
   "cell_type": "code",
   "execution_count": 6,
   "id": "003c2304",
   "metadata": {},
   "outputs": [
    {
     "name": "stdout",
     "output_type": "stream",
     "text": [
      "enter student name: mahmoud\n",
      "mahmoud is graduated.\n"
     ]
    }
   ],
   "source": [
    "#define list\n",
    "garduated_students=['mahmoud','sara','hasan','issa','karam']\n",
    "sname=input('enter student name: ')\n",
    "#test if the name exsist in list\n",
    "if sname in garduated_students:\n",
    "    print(sname,'is graduated.')\n",
    "else:\n",
    "    print(sname,'is not graduated.')"
   ]
  },
  {
   "cell_type": "code",
   "execution_count": 3,
   "id": "85f279d9",
   "metadata": {},
   "outputs": [
    {
     "name": "stdout",
     "output_type": "stream",
     "text": [
      "[1, 3, 5, 7, 9, 11, 13, 15, 17, 19, 21, 23, 25, 27, 29, 31, 33, 35, 37, 39, 41, 43, 45, 47, 49, 51, 53, 55, 57, 59, 61, 63, 65, 67, 69, 71, 73, 75, 77, 79, 81, 83, 85, 87, 89, 91, 93, 95, 97, 99, 101, 103, 105, 107, 109, 111, 113, 115, 117, 119, 121, 123, 125, 127, 129, 131, 133, 135, 137, 139, 141, 143, 145, 147, 149, 151, 153, 155, 157, 159, 161, 163, 165, 167, 169, 171, 173, 175, 177, 179, 181, 183, 185, 187, 189, 191, 193, 195, 197, 199, 201, 203, 205, 207, 209, 211, 213, 215, 217, 219, 221, 223, 225, 227, 229, 231, 233, 235, 237, 239, 241, 243, 245, 247, 249, 251, 253, 255, 257, 259, 261, 263, 265, 267, 269, 271, 273, 275, 277, 279, 281, 283, 285, 287, 289, 291, 293, 295, 297, 299, 301, 303, 305, 307, 309, 311, 313, 315, 317, 319, 321, 323, 325, 327, 329, 331, 333, 335, 337, 339, 341, 343, 345, 347, 349, 351, 353, 355, 357, 359, 361, 363, 365, 367, 369, 371, 373, 375, 377, 379, 381, 383, 385, 387, 389, 391, 393, 395, 397, 399, 401, 403, 405, 407, 409, 411, 413, 415, 417, 419, 421, 423, 425, 427, 429, 431, 433, 435, 437, 439, 441, 443, 445, 447, 449, 451, 453, 455, 457, 459, 461, 463, 465, 467, 469, 471, 473, 475, 477, 479, 481, 483, 485, 487, 489, 491, 493, 495, 497, 499, 501, 503, 505, 507, 509, 511, 513, 515, 517, 519, 521, 523, 525, 527, 529, 531, 533, 535, 537, 539, 541, 543, 545, 547, 549, 551, 553, 555, 557, 559, 561, 563, 565, 567, 569, 571, 573, 575, 577, 579, 581, 583, 585, 587, 589, 591, 593, 595, 597, 599, 601, 603, 605, 607, 609, 611, 613, 615, 617, 619, 621, 623, 625, 627, 629, 631, 633, 635, 637, 639, 641, 643, 645, 647, 649, 651, 653, 655, 657, 659, 661, 663, 665, 667, 669, 671, 673, 675, 677, 679, 681, 683, 685, 687, 689, 691, 693, 695, 697, 699, 701, 703, 705, 707, 709, 711, 713, 715, 717, 719, 721, 723, 725, 727, 729, 731, 733, 735, 737, 739, 741, 743, 745, 747, 749, 751, 753, 755, 757, 759, 761, 763, 765, 767, 769, 771, 773, 775, 777, 779, 781, 783, 785, 787, 789, 791, 793, 795, 797, 799, 801, 803, 805, 807, 809, 811, 813, 815, 817, 819, 821, 823, 825, 827, 829, 831, 833, 835, 837, 839, 841, 843, 845, 847, 849, 851, 853, 855, 857, 859, 861, 863, 865, 867, 869, 871, 873, 875, 877, 879, 881, 883, 885, 887, 889, 891, 893, 895, 897, 899, 901, 903, 905, 907, 909, 911, 913, 915, 917, 919, 921, 923, 925, 927, 929, 931, 933, 935, 937, 939, 941, 943, 945, 947, 949, 951, 953, 955, 957, 959, 961, 963, 965, 967, 969, 971, 973, 975, 977, 979, 981, 983, 985, 987, 989, 991, 993, 995, 997, 999]\n"
     ]
    }
   ],
   "source": [
    "#list comprehension\n",
    "odd_nums=[x for x in range(1,1000) if x%2!=0]\n",
    "print(odd_nums)"
   ]
  },
  {
   "cell_type": "code",
   "execution_count": 8,
   "id": "bbc3f602",
   "metadata": {},
   "outputs": [
    {
     "name": "stdout",
     "output_type": "stream",
     "text": [
      "Programming\n",
      "Physics\n"
     ]
    }
   ],
   "source": [
    "L=['Network','Math','Programming','Physics','Music']\n",
    "#len() method to make range equal to all items in list\n",
    "for i in range(len(L)):\n",
    "    #startswith() method to test if the item start with 'P'\n",
    "    if L[i].startswith('P'):\n",
    "        print(L[i])"
   ]
  },
  {
   "cell_type": "code",
   "execution_count": 11,
   "id": "8068ae86",
   "metadata": {},
   "outputs": [
    {
     "name": "stdout",
     "output_type": "stream",
     "text": [
      "{1: 1, 2: 4, 3: 9, 4: 16, 5: 25, 6: 36, 7: 49, 8: 64, 9: 81, 10: 100}\n"
     ]
    }
   ],
   "source": [
    "#dictionary comprehension\n",
    "d={x:x**2 for x in range(1,11)}\n",
    "print(d)"
   ]
  },
  {
   "cell_type": "code",
   "execution_count": 7,
   "id": "80a12da8",
   "metadata": {},
   "outputs": [
    {
     "name": "stdout",
     "output_type": "stream",
     "text": [
      "WELCOME TO MY DECIMAL CONVERTER TO BINARY PROGRAM\n",
      "enter decimal number: 10\n",
      "1010\n",
      "do you want to continue? if yes enter y for no enter anything: y\n",
      "enter decimal number: 50\n",
      "110010\n",
      "do you want to continue? if yes enter y for no enter anything: y\n",
      "enter decimal number: 31\n",
      "11111\n",
      "do you want to continue? if yes enter y for no enter anything: n\n"
     ]
    }
   ],
   "source": [
    "print('WELCOME TO MY DECIMAL CONVERTER TO BINARY PROGRAM')\n",
    "#make empty list to add the binary number to it\n",
    "binary=[]\n",
    "#while loop to make the programm run more one time\n",
    "while True:\n",
    "    d=input('enter decimal number: ')\n",
    "    #test input if digit or not\n",
    "    if d.isdigit():\n",
    "        #if digit convert from str to int\n",
    "        dec=int(d)\n",
    "    else:\n",
    "        print('try again')\n",
    "        continue\n",
    "    #decimal to binary algorithm\n",
    "    while dec!=0:\n",
    "        # append 0 or 1 to list each time\n",
    "        binary.append(dec%2)\n",
    "        dec//=2\n",
    "    #reverse the list\n",
    "    binary.reverse()\n",
    "    #this for to print the result in beautiful shape\n",
    "    for i in binary:\n",
    "        print(i,end='')\n",
    "    s=input('\\ndo you want to continue? if yes enter y for no enter anything: ')\n",
    "    if s=='y':\n",
    "        #clear list items to anthor try\n",
    "        binary.clear()\n",
    "    else:\n",
    "        break"
   ]
  },
  {
   "cell_type": "code",
   "execution_count": 5,
   "id": "21b63cda",
   "metadata": {},
   "outputs": [
    {
     "name": "stdout",
     "output_type": "stream",
     "text": [
      "enter your name: mahmoud\n",
      "1+1=\n",
      "enter answer: 2\n",
      "2+2=\n",
      "enter answer: 4\n",
      "5*5=\n",
      "enter answer: 25\n",
      "1+6=\n",
      "enter answer: 7\n",
      "7*7=\n",
      "enter answer: 49\n",
      "8*8=\n",
      "enter answer: 64\n",
      "9*9=\n",
      "enter answer: 81\n",
      "33+7=\n",
      "enter answer: 40\n",
      "5*5=\n",
      "enter answer: 25\n",
      "1+6=\n",
      "enter answer: 7\n",
      "1+1=\n",
      "enter answer: 2\n",
      "2+2=\n",
      "enter answer: 4\n",
      "5*5=\n",
      "enter answer: 25\n",
      "1+6=\n",
      "enter answer: 7\n",
      "7*7=\n",
      "enter answer: 49\n",
      "8*8=\n",
      "enter answer: 2\n",
      "9*9=\n",
      "enter answer: 2\n",
      "33+7=\n",
      "enter answer: 2\n",
      "5*5=\n",
      "enter answer: 2\n",
      "1+6=\n",
      "enter answer: 2\n",
      "15 true from 20\n"
     ]
    }
   ],
   "source": [
    "infilename='E:\\\\1.txt'\n",
    "outfilename='E:\\\\2.txt'\n",
    "#open two files, infile to read quistions and answers\n",
    "#outfile to write the result in new file\n",
    "infile=open(infilename,'r')\n",
    "outfile=open(outfilename,'w')\n",
    "#questions number counter\n",
    "qnum=0\n",
    "#true answers number counter\n",
    "truenum=0\n",
    "username=input('enter your name: ')\n",
    "for i in infile:\n",
    "    qnum+=1\n",
    "    print(i[:i.index('=')+1])\n",
    "    answer=input('enter answer: ')\n",
    "    outfile.write('\\n'+i+'\\n'+answer)\n",
    "    if answer == i[i.index('=')+1:].rstrip():\n",
    "        truenum+=1\n",
    "print(truenum,'true from',qnum)\n",
    "outfile.write('\\n'+username+'\\n')\n",
    "outfile.write(str(truenum)+'true from'+str(qnum))\n",
    "infile.close()\n",
    "outfile.close()"
   ]
  }
 ],
 "metadata": {
  "kernelspec": {
   "display_name": "Python 3 (ipykernel)",
   "language": "python",
   "name": "python3"
  },
  "language_info": {
   "codemirror_mode": {
    "name": "ipython",
    "version": 3
   },
   "file_extension": ".py",
   "mimetype": "text/x-python",
   "name": "python",
   "nbconvert_exporter": "python",
   "pygments_lexer": "ipython3",
   "version": "3.10.4"
  }
 },
 "nbformat": 4,
 "nbformat_minor": 5
}
